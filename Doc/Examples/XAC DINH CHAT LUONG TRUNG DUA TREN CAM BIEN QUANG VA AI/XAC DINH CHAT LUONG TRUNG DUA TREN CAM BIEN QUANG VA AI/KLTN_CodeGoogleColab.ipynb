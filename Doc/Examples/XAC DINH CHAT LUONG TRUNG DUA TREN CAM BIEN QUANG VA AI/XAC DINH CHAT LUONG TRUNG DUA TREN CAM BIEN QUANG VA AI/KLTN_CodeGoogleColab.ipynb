{
  "cells": [
    {
      "cell_type": "markdown",
      "metadata": {
        "id": "rGaun_YpAGaZ"
      },
      "source": [
        "Import Lib"
      ]
    },
    {
      "cell_type": "code",
      "execution_count": null,
      "metadata": {
        "id": "XE1ofUqU_wWP"
      },
      "outputs": [],
      "source": [
        "import pandas as pd\n",
        "import numpy as np\n",
        "import matplotlib.pyplot as plt\n",
        "from matplotlib.pylab import rcParams\n",
        "from sklearn import preprocessing\n",
        "import sklearn.feature_selection as fs\n",
        "import pickle\n",
        "from sklearn.preprocessing import StandardScaler\n",
        "from scipy.signal import savgol_filter\n",
        "from sklearn.cross_decomposition import PLSRegression\n",
        "from sklearn.model_selection import cross_val_predict\n",
        "from sklearn.metrics import mean_squared_error, r2_score\n",
        "from sys import stdout\n",
        "import math\n",
        "import plotly.express as px\n",
        "import matplotlib as mpl\n",
        "import matplotlib.patches as mpatches"
      ]
    },
    {
      "cell_type": "code",
      "execution_count": null,
      "metadata": {
        "id": "8aChEHzmAFTu",
        "colab": {
          "base_uri": "https://localhost:8080/"
        },
        "outputId": "80b70928-68bc-4515-e066-7cfdabee1dd8"
      },
      "outputs": [
        {
          "output_type": "stream",
          "name": "stdout",
          "text": [
            "         R_610nm      S_680nm      T_730nm      U_760nm      V_810nm  \\\n",
            "0    6189.242188  9165.197266  13118.49414  15181.95801  30960.63281   \n",
            "1    5635.516602  8591.493164  13357.27441  15381.11230  35937.54297   \n",
            "2    5991.388184  7938.769043  11890.62988  13640.63770  34465.28516   \n",
            "3    5516.007813  7958.253418  13066.00391  15148.92285  36151.74609   \n",
            "4    6182.602539  8785.253906  13078.35449  14880.86719  32264.94727   \n",
            "..           ...          ...          ...          ...          ...   \n",
            "395  5874.534670  7997.221680  12603.88184  14660.94824  33726.14063   \n",
            "396  6639.393070  9139.217770  12830.31152  14752.50293  35243.65234   \n",
            "397  6086.995610  8732.212890  12325.99121  14333.42969  36186.94141   \n",
            "398  6320.702150  8324.125000  12213.80566  14190.90723  36983.41016   \n",
            "399  5999.355470  9589.522460  13868.79883  16108.82715  35134.03906   \n",
            "\n",
            "         W_860nm  DATE location  weight  height       HU  \n",
            "0    30443.13867     2      mid   62.38    0.70  82.7666  \n",
            "1    34033.54297     2      mid   61.62    0.80  88.9867  \n",
            "2    32531.52148     2      mid   60.00    0.80  89.4133  \n",
            "3    33882.97266     2      mid   60.00    0.90  94.6290  \n",
            "4    30228.91406     2      mid   61.19    0.96  97.2217  \n",
            "..           ...   ...      ...     ...     ...      ...  \n",
            "395  32041.86523    21      mid   59.02    0.42  61.1051  \n",
            "396  33316.19531    21      mid   57.92    0.40  59.5165  \n",
            "397  34389.76563    21      mid   58.34    0.37  55.8296  \n",
            "398  34907.57813    21      mid   60.00    0.38  56.0707  \n",
            "399  34106.98828    21      mid   58.77    0.32  49.0764  \n",
            "\n",
            "[400 rows x 11 columns]\n"
          ]
        }
      ],
      "source": [
        "dataset = pd.read_csv ('/content/Raw_data_mid.csv')\n",
        "print (dataset)\n"
      ]
    },
    {
      "cell_type": "code",
      "source": [
        "dataset.describe()"
      ],
      "metadata": {
        "colab": {
          "base_uri": "https://localhost:8080/",
          "height": 300
        },
        "id": "PxtMK1wNj8KT",
        "outputId": "cb84eb93-e5ca-4555-d370-4b68a67471a1"
      },
      "execution_count": null,
      "outputs": [
        {
          "output_type": "execute_result",
          "data": {
            "text/plain": [
              "           R_610nm       S_680nm       T_730nm       U_760nm       V_810nm  \\\n",
              "count   400.000000    400.000000    400.000000    400.000000    400.000000   \n",
              "mean   6007.634811   8128.841003  12172.482544  14126.705991  35553.293624   \n",
              "std     580.889668    828.472936    943.397663   1060.037925   1811.246744   \n",
              "min    4227.965332   5180.658203   7860.186523   9297.946289  25131.943360   \n",
              "25%    5628.545409   7586.427980  11556.903077  13453.281983  34657.112305   \n",
              "50%    5985.412842   8162.297119  12304.377440  14282.461910  35628.310545   \n",
              "75%    6337.964355   8703.257326  12849.609618  14866.709478  36746.331055   \n",
              "max    7846.434570  10216.266600  14568.670900  16681.748050  39484.433590   \n",
              "\n",
              "            W_860nm        DATE      weight      height          HU  \n",
              "count    400.000000  400.000000  400.000000  400.000000  400.000000  \n",
              "mean   33525.688741   11.500000   59.262050    0.561100   72.326242  \n",
              "std     1772.948001    5.773503    1.616967    0.157693   11.536155  \n",
              "min    23250.091800    2.000000   54.640000    0.300000   44.600300  \n",
              "25%    32575.284178    6.750000   58.120000    0.450000   64.391400  \n",
              "50%    33640.591795   11.500000   59.170000    0.500000   69.369900  \n",
              "75%    34711.104493   16.250000   60.167500    0.660000   80.616850  \n",
              "max    37081.648440   21.000000   64.190000    0.990000   98.851200  "
            ],
            "text/html": [
              "\n",
              "  <div id=\"df-041ebe9a-2495-4590-b8ff-30ddbda1cde0\" class=\"colab-df-container\">\n",
              "    <div>\n",
              "<style scoped>\n",
              "    .dataframe tbody tr th:only-of-type {\n",
              "        vertical-align: middle;\n",
              "    }\n",
              "\n",
              "    .dataframe tbody tr th {\n",
              "        vertical-align: top;\n",
              "    }\n",
              "\n",
              "    .dataframe thead th {\n",
              "        text-align: right;\n",
              "    }\n",
              "</style>\n",
              "<table border=\"1\" class=\"dataframe\">\n",
              "  <thead>\n",
              "    <tr style=\"text-align: right;\">\n",
              "      <th></th>\n",
              "      <th>R_610nm</th>\n",
              "      <th>S_680nm</th>\n",
              "      <th>T_730nm</th>\n",
              "      <th>U_760nm</th>\n",
              "      <th>V_810nm</th>\n",
              "      <th>W_860nm</th>\n",
              "      <th>DATE</th>\n",
              "      <th>weight</th>\n",
              "      <th>height</th>\n",
              "      <th>HU</th>\n",
              "    </tr>\n",
              "  </thead>\n",
              "  <tbody>\n",
              "    <tr>\n",
              "      <th>count</th>\n",
              "      <td>400.000000</td>\n",
              "      <td>400.000000</td>\n",
              "      <td>400.000000</td>\n",
              "      <td>400.000000</td>\n",
              "      <td>400.000000</td>\n",
              "      <td>400.000000</td>\n",
              "      <td>400.000000</td>\n",
              "      <td>400.000000</td>\n",
              "      <td>400.000000</td>\n",
              "      <td>400.000000</td>\n",
              "    </tr>\n",
              "    <tr>\n",
              "      <th>mean</th>\n",
              "      <td>6007.634811</td>\n",
              "      <td>8128.841003</td>\n",
              "      <td>12172.482544</td>\n",
              "      <td>14126.705991</td>\n",
              "      <td>35553.293624</td>\n",
              "      <td>33525.688741</td>\n",
              "      <td>11.500000</td>\n",
              "      <td>59.262050</td>\n",
              "      <td>0.561100</td>\n",
              "      <td>72.326242</td>\n",
              "    </tr>\n",
              "    <tr>\n",
              "      <th>std</th>\n",
              "      <td>580.889668</td>\n",
              "      <td>828.472936</td>\n",
              "      <td>943.397663</td>\n",
              "      <td>1060.037925</td>\n",
              "      <td>1811.246744</td>\n",
              "      <td>1772.948001</td>\n",
              "      <td>5.773503</td>\n",
              "      <td>1.616967</td>\n",
              "      <td>0.157693</td>\n",
              "      <td>11.536155</td>\n",
              "    </tr>\n",
              "    <tr>\n",
              "      <th>min</th>\n",
              "      <td>4227.965332</td>\n",
              "      <td>5180.658203</td>\n",
              "      <td>7860.186523</td>\n",
              "      <td>9297.946289</td>\n",
              "      <td>25131.943360</td>\n",
              "      <td>23250.091800</td>\n",
              "      <td>2.000000</td>\n",
              "      <td>54.640000</td>\n",
              "      <td>0.300000</td>\n",
              "      <td>44.600300</td>\n",
              "    </tr>\n",
              "    <tr>\n",
              "      <th>25%</th>\n",
              "      <td>5628.545409</td>\n",
              "      <td>7586.427980</td>\n",
              "      <td>11556.903077</td>\n",
              "      <td>13453.281983</td>\n",
              "      <td>34657.112305</td>\n",
              "      <td>32575.284178</td>\n",
              "      <td>6.750000</td>\n",
              "      <td>58.120000</td>\n",
              "      <td>0.450000</td>\n",
              "      <td>64.391400</td>\n",
              "    </tr>\n",
              "    <tr>\n",
              "      <th>50%</th>\n",
              "      <td>5985.412842</td>\n",
              "      <td>8162.297119</td>\n",
              "      <td>12304.377440</td>\n",
              "      <td>14282.461910</td>\n",
              "      <td>35628.310545</td>\n",
              "      <td>33640.591795</td>\n",
              "      <td>11.500000</td>\n",
              "      <td>59.170000</td>\n",
              "      <td>0.500000</td>\n",
              "      <td>69.369900</td>\n",
              "    </tr>\n",
              "    <tr>\n",
              "      <th>75%</th>\n",
              "      <td>6337.964355</td>\n",
              "      <td>8703.257326</td>\n",
              "      <td>12849.609618</td>\n",
              "      <td>14866.709478</td>\n",
              "      <td>36746.331055</td>\n",
              "      <td>34711.104493</td>\n",
              "      <td>16.250000</td>\n",
              "      <td>60.167500</td>\n",
              "      <td>0.660000</td>\n",
              "      <td>80.616850</td>\n",
              "    </tr>\n",
              "    <tr>\n",
              "      <th>max</th>\n",
              "      <td>7846.434570</td>\n",
              "      <td>10216.266600</td>\n",
              "      <td>14568.670900</td>\n",
              "      <td>16681.748050</td>\n",
              "      <td>39484.433590</td>\n",
              "      <td>37081.648440</td>\n",
              "      <td>21.000000</td>\n",
              "      <td>64.190000</td>\n",
              "      <td>0.990000</td>\n",
              "      <td>98.851200</td>\n",
              "    </tr>\n",
              "  </tbody>\n",
              "</table>\n",
              "</div>\n",
              "    <div class=\"colab-df-buttons\">\n",
              "\n",
              "  <div class=\"colab-df-container\">\n",
              "    <button class=\"colab-df-convert\" onclick=\"convertToInteractive('df-041ebe9a-2495-4590-b8ff-30ddbda1cde0')\"\n",
              "            title=\"Convert this dataframe to an interactive table.\"\n",
              "            style=\"display:none;\">\n",
              "\n",
              "  <svg xmlns=\"http://www.w3.org/2000/svg\" height=\"24px\" viewBox=\"0 -960 960 960\">\n",
              "    <path d=\"M120-120v-720h720v720H120Zm60-500h600v-160H180v160Zm220 220h160v-160H400v160Zm0 220h160v-160H400v160ZM180-400h160v-160H180v160Zm440 0h160v-160H620v160ZM180-180h160v-160H180v160Zm440 0h160v-160H620v160Z\"/>\n",
              "  </svg>\n",
              "    </button>\n",
              "\n",
              "  <style>\n",
              "    .colab-df-container {\n",
              "      display:flex;\n",
              "      gap: 12px;\n",
              "    }\n",
              "\n",
              "    .colab-df-convert {\n",
              "      background-color: #E8F0FE;\n",
              "      border: none;\n",
              "      border-radius: 50%;\n",
              "      cursor: pointer;\n",
              "      display: none;\n",
              "      fill: #1967D2;\n",
              "      height: 32px;\n",
              "      padding: 0 0 0 0;\n",
              "      width: 32px;\n",
              "    }\n",
              "\n",
              "    .colab-df-convert:hover {\n",
              "      background-color: #E2EBFA;\n",
              "      box-shadow: 0px 1px 2px rgba(60, 64, 67, 0.3), 0px 1px 3px 1px rgba(60, 64, 67, 0.15);\n",
              "      fill: #174EA6;\n",
              "    }\n",
              "\n",
              "    .colab-df-buttons div {\n",
              "      margin-bottom: 4px;\n",
              "    }\n",
              "\n",
              "    [theme=dark] .colab-df-convert {\n",
              "      background-color: #3B4455;\n",
              "      fill: #D2E3FC;\n",
              "    }\n",
              "\n",
              "    [theme=dark] .colab-df-convert:hover {\n",
              "      background-color: #434B5C;\n",
              "      box-shadow: 0px 1px 3px 1px rgba(0, 0, 0, 0.15);\n",
              "      filter: drop-shadow(0px 1px 2px rgba(0, 0, 0, 0.3));\n",
              "      fill: #FFFFFF;\n",
              "    }\n",
              "  </style>\n",
              "\n",
              "    <script>\n",
              "      const buttonEl =\n",
              "        document.querySelector('#df-041ebe9a-2495-4590-b8ff-30ddbda1cde0 button.colab-df-convert');\n",
              "      buttonEl.style.display =\n",
              "        google.colab.kernel.accessAllowed ? 'block' : 'none';\n",
              "\n",
              "      async function convertToInteractive(key) {\n",
              "        const element = document.querySelector('#df-041ebe9a-2495-4590-b8ff-30ddbda1cde0');\n",
              "        const dataTable =\n",
              "          await google.colab.kernel.invokeFunction('convertToInteractive',\n",
              "                                                    [key], {});\n",
              "        if (!dataTable) return;\n",
              "\n",
              "        const docLinkHtml = 'Like what you see? Visit the ' +\n",
              "          '<a target=\"_blank\" href=https://colab.research.google.com/notebooks/data_table.ipynb>data table notebook</a>'\n",
              "          + ' to learn more about interactive tables.';\n",
              "        element.innerHTML = '';\n",
              "        dataTable['output_type'] = 'display_data';\n",
              "        await google.colab.output.renderOutput(dataTable, element);\n",
              "        const docLink = document.createElement('div');\n",
              "        docLink.innerHTML = docLinkHtml;\n",
              "        element.appendChild(docLink);\n",
              "      }\n",
              "    </script>\n",
              "  </div>\n",
              "\n",
              "\n",
              "<div id=\"df-b24442c0-6af7-4c3d-8603-3ebbc733db18\">\n",
              "  <button class=\"colab-df-quickchart\" onclick=\"quickchart('df-b24442c0-6af7-4c3d-8603-3ebbc733db18')\"\n",
              "            title=\"Suggest charts\"\n",
              "            style=\"display:none;\">\n",
              "\n",
              "<svg xmlns=\"http://www.w3.org/2000/svg\" height=\"24px\"viewBox=\"0 0 24 24\"\n",
              "     width=\"24px\">\n",
              "    <g>\n",
              "        <path d=\"M19 3H5c-1.1 0-2 .9-2 2v14c0 1.1.9 2 2 2h14c1.1 0 2-.9 2-2V5c0-1.1-.9-2-2-2zM9 17H7v-7h2v7zm4 0h-2V7h2v10zm4 0h-2v-4h2v4z\"/>\n",
              "    </g>\n",
              "</svg>\n",
              "  </button>\n",
              "\n",
              "<style>\n",
              "  .colab-df-quickchart {\n",
              "      --bg-color: #E8F0FE;\n",
              "      --fill-color: #1967D2;\n",
              "      --hover-bg-color: #E2EBFA;\n",
              "      --hover-fill-color: #174EA6;\n",
              "      --disabled-fill-color: #AAA;\n",
              "      --disabled-bg-color: #DDD;\n",
              "  }\n",
              "\n",
              "  [theme=dark] .colab-df-quickchart {\n",
              "      --bg-color: #3B4455;\n",
              "      --fill-color: #D2E3FC;\n",
              "      --hover-bg-color: #434B5C;\n",
              "      --hover-fill-color: #FFFFFF;\n",
              "      --disabled-bg-color: #3B4455;\n",
              "      --disabled-fill-color: #666;\n",
              "  }\n",
              "\n",
              "  .colab-df-quickchart {\n",
              "    background-color: var(--bg-color);\n",
              "    border: none;\n",
              "    border-radius: 50%;\n",
              "    cursor: pointer;\n",
              "    display: none;\n",
              "    fill: var(--fill-color);\n",
              "    height: 32px;\n",
              "    padding: 0;\n",
              "    width: 32px;\n",
              "  }\n",
              "\n",
              "  .colab-df-quickchart:hover {\n",
              "    background-color: var(--hover-bg-color);\n",
              "    box-shadow: 0 1px 2px rgba(60, 64, 67, 0.3), 0 1px 3px 1px rgba(60, 64, 67, 0.15);\n",
              "    fill: var(--button-hover-fill-color);\n",
              "  }\n",
              "\n",
              "  .colab-df-quickchart-complete:disabled,\n",
              "  .colab-df-quickchart-complete:disabled:hover {\n",
              "    background-color: var(--disabled-bg-color);\n",
              "    fill: var(--disabled-fill-color);\n",
              "    box-shadow: none;\n",
              "  }\n",
              "\n",
              "  .colab-df-spinner {\n",
              "    border: 2px solid var(--fill-color);\n",
              "    border-color: transparent;\n",
              "    border-bottom-color: var(--fill-color);\n",
              "    animation:\n",
              "      spin 1s steps(1) infinite;\n",
              "  }\n",
              "\n",
              "  @keyframes spin {\n",
              "    0% {\n",
              "      border-color: transparent;\n",
              "      border-bottom-color: var(--fill-color);\n",
              "      border-left-color: var(--fill-color);\n",
              "    }\n",
              "    20% {\n",
              "      border-color: transparent;\n",
              "      border-left-color: var(--fill-color);\n",
              "      border-top-color: var(--fill-color);\n",
              "    }\n",
              "    30% {\n",
              "      border-color: transparent;\n",
              "      border-left-color: var(--fill-color);\n",
              "      border-top-color: var(--fill-color);\n",
              "      border-right-color: var(--fill-color);\n",
              "    }\n",
              "    40% {\n",
              "      border-color: transparent;\n",
              "      border-right-color: var(--fill-color);\n",
              "      border-top-color: var(--fill-color);\n",
              "    }\n",
              "    60% {\n",
              "      border-color: transparent;\n",
              "      border-right-color: var(--fill-color);\n",
              "    }\n",
              "    80% {\n",
              "      border-color: transparent;\n",
              "      border-right-color: var(--fill-color);\n",
              "      border-bottom-color: var(--fill-color);\n",
              "    }\n",
              "    90% {\n",
              "      border-color: transparent;\n",
              "      border-bottom-color: var(--fill-color);\n",
              "    }\n",
              "  }\n",
              "</style>\n",
              "\n",
              "  <script>\n",
              "    async function quickchart(key) {\n",
              "      const quickchartButtonEl =\n",
              "        document.querySelector('#' + key + ' button');\n",
              "      quickchartButtonEl.disabled = true;  // To prevent multiple clicks.\n",
              "      quickchartButtonEl.classList.add('colab-df-spinner');\n",
              "      try {\n",
              "        const charts = await google.colab.kernel.invokeFunction(\n",
              "            'suggestCharts', [key], {});\n",
              "      } catch (error) {\n",
              "        console.error('Error during call to suggestCharts:', error);\n",
              "      }\n",
              "      quickchartButtonEl.classList.remove('colab-df-spinner');\n",
              "      quickchartButtonEl.classList.add('colab-df-quickchart-complete');\n",
              "    }\n",
              "    (() => {\n",
              "      let quickchartButtonEl =\n",
              "        document.querySelector('#df-b24442c0-6af7-4c3d-8603-3ebbc733db18 button');\n",
              "      quickchartButtonEl.style.display =\n",
              "        google.colab.kernel.accessAllowed ? 'block' : 'none';\n",
              "    })();\n",
              "  </script>\n",
              "</div>\n",
              "\n",
              "    </div>\n",
              "  </div>\n"
            ]
          },
          "metadata": {},
          "execution_count": 3
        }
      ]
    },
    {
      "cell_type": "code",
      "source": [
        "mean= dataset.groupby('DATE', as_index=False)['T_730nm','U_760nm','V_810nm','W_860nm'].mean()\n",
        "print(mean)"
      ],
      "metadata": {
        "colab": {
          "base_uri": "https://localhost:8080/"
        },
        "id": "nS6BXiLMgGqY",
        "outputId": "1f582245-56a7-41d1-eea1-1ace0c307be7"
      },
      "execution_count": null,
      "outputs": [
        {
          "output_type": "stream",
          "name": "stdout",
          "text": [
            "    DATE       T_730nm       U_760nm       V_810nm       W_860nm\n",
            "0      2  11500.244629  13915.678321  31003.170801  29104.847558\n",
            "1      3  11331.554640  13700.101026  31504.784082  29922.818262\n",
            "2      4  11251.841406  13465.316260  34726.803516  32806.280078\n",
            "3      5  10438.291015  12340.237402  33678.625489  31267.719629\n",
            "4      6  10503.286377  12477.804785  34644.089845  32472.946388\n",
            "5      7  10268.674754  12267.607422  34538.246192  32159.261035\n",
            "6      8  10041.627930  11942.778808  32715.624512  30618.129687\n",
            "7      9  10883.070214  13182.961182  33060.558888  31550.006055\n",
            "8     10  10340.205812  12425.656495  34019.687988  32027.481837\n",
            "9     11  10514.453466  12567.187988  34008.022365  32025.340138\n",
            "10    12  10201.209130  12025.224855  34587.069923  31796.792969\n",
            "11    13  10201.209130  12025.224855  34587.069923  31796.792969\n",
            "12    14  10356.416113  12489.980469  34446.531934  32555.453810\n",
            "13    15  10175.427051  12244.247021  33362.904590  31694.638087\n",
            "14    16   9783.807226  11628.285204  32277.769043  30050.434668\n",
            "15    17   9679.855469  11553.248487  30899.941896  29006.977833\n",
            "16    18   9500.873341  11362.069971  30523.178809  28705.655664\n",
            "17    19  10088.663379  12083.366356  32531.140040  30581.711524\n",
            "18    20  10068.490528  11999.551709  32872.554590  30643.224316\n",
            "19    21   9939.837450  11921.636181  31846.198536  30095.727931\n"
          ]
        },
        {
          "output_type": "stream",
          "name": "stderr",
          "text": [
            "<ipython-input-4-9d51b9a05a71>:1: FutureWarning: Indexing with multiple keys (implicitly converted to a tuple of keys) will be deprecated, use a list instead.\n",
            "  mean= dataset.groupby('DATE', as_index=False)['T_730nm','U_760nm','V_810nm','W_860nm'].mean()\n"
          ]
        }
      ]
    },
    {
      "cell_type": "markdown",
      "metadata": {
        "id": "2-nOFsLGcTbj"
      },
      "source": [
        "# Mục mới"
      ]
    },
    {
      "cell_type": "code",
      "execution_count": null,
      "metadata": {
        "id": "w4o_csASeurj"
      },
      "outputs": [],
      "source": [
        "def msc(input_data, reference=None):\n",
        "    # mean centre correction\n",
        "    for i in range(input_data.shape[0]):\n",
        "        input_data[i,:] -= input_data[i,:].mean()\n",
        "\n",
        "    # Get the reference spectrum. If not given, estimate it from the mean\n",
        "    if reference is None:\n",
        "        # Calculate mean\n",
        "        ref = np.mean(input_data, axis=0)\n",
        "    else:\n",
        "        ref = reference\n",
        "\n",
        "    # Define a new array and populate it with the corrected data\n",
        "    data_msc = np.zeros_like(input_data)\n",
        "    for i in range(input_data.shape[0]):\n",
        "        # Run regression\n",
        "        fit = np.polyfit(ref, input_data[i,:], 1, full=True)\n",
        "        # Apply correction\n",
        "        data_msc[i,:] = (input_data[i,:] - fit[0][1]) / fit[0][0]\n",
        "\n",
        "    return (data_msc, ref)"
      ]
    },
    {
      "cell_type": "code",
      "execution_count": null,
      "metadata": {
        "id": "cK3qR4cXe7zC"
      },
      "outputs": [],
      "source": [
        "def snv(input_data):\n",
        "\n",
        "    # Define a new array and populate it with the corrected data\n",
        "    output_data = np.zeros_like(input_data)\n",
        "    for i in range(input_data.shape[0]):\n",
        "\n",
        "        # Apply correction\n",
        "        output_data[i,:] = (input_data[i,:] - np.mean(input_data[i,:])) / np.std(input_data[i,:])\n",
        "\n",
        "    return output_data"
      ]
    },
    {
      "cell_type": "code",
      "execution_count": null,
      "metadata": {
        "colab": {
          "base_uri": "https://localhost:8080/"
        },
        "id": "qJY7504xddPd",
        "outputId": "808a4926-9d05-49c4-9abb-a5735017a502"
      },
      "outputs": [
        {
          "output_type": "stream",
          "name": "stdout",
          "text": [
            "         T_730nm      U_760nm      V_810nm      W_860nm  DATE location  \\\n",
            "0    13118.49414  15181.95801  30960.63281  30443.13867     2      mid   \n",
            "1    13357.27441  15381.11230  35937.54297  34033.54297     2      mid   \n",
            "2    11890.62988  13640.63770  34465.28516  32531.52148     2      mid   \n",
            "3    13066.00391  15148.92285  36151.74609  33882.97266     2      mid   \n",
            "4    13078.35449  14880.86719  32264.94727  30228.91406     2      mid   \n",
            "..           ...          ...          ...          ...   ...      ...   \n",
            "395  12603.88184  14660.94824  33726.14063  32041.86523    21      mid   \n",
            "396  12830.31152  14752.50293  35243.65234  33316.19531    21      mid   \n",
            "397  12325.99121  14333.42969  36186.94141  34389.76563    21      mid   \n",
            "398  12213.80566  14190.90723  36983.41016  34907.57813    21      mid   \n",
            "399  13868.79883  16108.82715  35134.03906  34106.98828    21      mid   \n",
            "\n",
            "     weight  height       HU  \n",
            "0     62.38    0.70  82.7666  \n",
            "1     61.62    0.80  88.9867  \n",
            "2     60.00    0.80  89.4133  \n",
            "3     60.00    0.90  94.6290  \n",
            "4     61.19    0.96  97.2217  \n",
            "..      ...     ...      ...  \n",
            "395   59.02    0.42  61.1051  \n",
            "396   57.92    0.40  59.5165  \n",
            "397   58.34    0.37  55.8296  \n",
            "398   60.00    0.38  56.0707  \n",
            "399   58.77    0.32  49.0764  \n",
            "\n",
            "[400 rows x 9 columns]\n"
          ]
        }
      ],
      "source": [
        "x = dataset.drop(columns=['R_610nm','S_680nm'], axis = 1)\n",
        "\n",
        "print(x)"
      ]
    },
    {
      "cell_type": "code",
      "source": [
        "x.describe()"
      ],
      "metadata": {
        "colab": {
          "base_uri": "https://localhost:8080/",
          "height": 300
        },
        "id": "T1O97qF4kQly",
        "outputId": "b93a9712-60c8-4a39-cfba-284dc6c7a3bf"
      },
      "execution_count": null,
      "outputs": [
        {
          "output_type": "execute_result",
          "data": {
            "text/plain": [
              "            T_730nm       U_760nm       V_810nm       W_860nm        DATE  \\\n",
              "count    400.000000    400.000000    400.000000    400.000000  400.000000   \n",
              "mean   10353.451953  12380.908240  33091.698648  31044.112022   11.500000   \n",
              "std      725.226016    909.307633   1932.669822   1785.548000    5.773503   \n",
              "min     8435.523440  10249.355470  27152.273440  25465.785160    2.000000   \n",
              "25%     9802.075685  11687.795412  31818.693845  29937.875488    6.750000   \n",
              "50%    10343.705075  12350.855955  33250.976565  31084.587890   11.500000   \n",
              "75%    10865.264890  12979.229245  34527.887698  32332.599120   16.250000   \n",
              "max    12239.536130  14918.622070  37285.101560  35863.632810   21.000000   \n",
              "\n",
              "           weight      height          HU  \n",
              "count  400.000000  400.000000  400.000000  \n",
              "mean    59.262050    0.561100   72.326242  \n",
              "std      1.616967    0.157693   11.536155  \n",
              "min     54.640000    0.300000   44.600300  \n",
              "25%     58.120000    0.450000   64.391400  \n",
              "50%     59.170000    0.500000   69.369900  \n",
              "75%     60.167500    0.660000   80.616850  \n",
              "max     64.190000    0.990000   98.851200  "
            ],
            "text/html": [
              "\n",
              "  <div id=\"df-bd1b0bce-99e1-4ca7-9f50-2eeb23c4b04b\" class=\"colab-df-container\">\n",
              "    <div>\n",
              "<style scoped>\n",
              "    .dataframe tbody tr th:only-of-type {\n",
              "        vertical-align: middle;\n",
              "    }\n",
              "\n",
              "    .dataframe tbody tr th {\n",
              "        vertical-align: top;\n",
              "    }\n",
              "\n",
              "    .dataframe thead th {\n",
              "        text-align: right;\n",
              "    }\n",
              "</style>\n",
              "<table border=\"1\" class=\"dataframe\">\n",
              "  <thead>\n",
              "    <tr style=\"text-align: right;\">\n",
              "      <th></th>\n",
              "      <th>T_730nm</th>\n",
              "      <th>U_760nm</th>\n",
              "      <th>V_810nm</th>\n",
              "      <th>W_860nm</th>\n",
              "      <th>DATE</th>\n",
              "      <th>weight</th>\n",
              "      <th>height</th>\n",
              "      <th>HU</th>\n",
              "    </tr>\n",
              "  </thead>\n",
              "  <tbody>\n",
              "    <tr>\n",
              "      <th>count</th>\n",
              "      <td>400.000000</td>\n",
              "      <td>400.000000</td>\n",
              "      <td>400.000000</td>\n",
              "      <td>400.000000</td>\n",
              "      <td>400.000000</td>\n",
              "      <td>400.000000</td>\n",
              "      <td>400.000000</td>\n",
              "      <td>400.000000</td>\n",
              "    </tr>\n",
              "    <tr>\n",
              "      <th>mean</th>\n",
              "      <td>10353.451953</td>\n",
              "      <td>12380.908240</td>\n",
              "      <td>33091.698648</td>\n",
              "      <td>31044.112022</td>\n",
              "      <td>11.500000</td>\n",
              "      <td>59.262050</td>\n",
              "      <td>0.561100</td>\n",
              "      <td>72.326242</td>\n",
              "    </tr>\n",
              "    <tr>\n",
              "      <th>std</th>\n",
              "      <td>725.226016</td>\n",
              "      <td>909.307633</td>\n",
              "      <td>1932.669822</td>\n",
              "      <td>1785.548000</td>\n",
              "      <td>5.773503</td>\n",
              "      <td>1.616967</td>\n",
              "      <td>0.157693</td>\n",
              "      <td>11.536155</td>\n",
              "    </tr>\n",
              "    <tr>\n",
              "      <th>min</th>\n",
              "      <td>8435.523440</td>\n",
              "      <td>10249.355470</td>\n",
              "      <td>27152.273440</td>\n",
              "      <td>25465.785160</td>\n",
              "      <td>2.000000</td>\n",
              "      <td>54.640000</td>\n",
              "      <td>0.300000</td>\n",
              "      <td>44.600300</td>\n",
              "    </tr>\n",
              "    <tr>\n",
              "      <th>25%</th>\n",
              "      <td>9802.075685</td>\n",
              "      <td>11687.795412</td>\n",
              "      <td>31818.693845</td>\n",
              "      <td>29937.875488</td>\n",
              "      <td>6.750000</td>\n",
              "      <td>58.120000</td>\n",
              "      <td>0.450000</td>\n",
              "      <td>64.391400</td>\n",
              "    </tr>\n",
              "    <tr>\n",
              "      <th>50%</th>\n",
              "      <td>10343.705075</td>\n",
              "      <td>12350.855955</td>\n",
              "      <td>33250.976565</td>\n",
              "      <td>31084.587890</td>\n",
              "      <td>11.500000</td>\n",
              "      <td>59.170000</td>\n",
              "      <td>0.500000</td>\n",
              "      <td>69.369900</td>\n",
              "    </tr>\n",
              "    <tr>\n",
              "      <th>75%</th>\n",
              "      <td>10865.264890</td>\n",
              "      <td>12979.229245</td>\n",
              "      <td>34527.887698</td>\n",
              "      <td>32332.599120</td>\n",
              "      <td>16.250000</td>\n",
              "      <td>60.167500</td>\n",
              "      <td>0.660000</td>\n",
              "      <td>80.616850</td>\n",
              "    </tr>\n",
              "    <tr>\n",
              "      <th>max</th>\n",
              "      <td>12239.536130</td>\n",
              "      <td>14918.622070</td>\n",
              "      <td>37285.101560</td>\n",
              "      <td>35863.632810</td>\n",
              "      <td>21.000000</td>\n",
              "      <td>64.190000</td>\n",
              "      <td>0.990000</td>\n",
              "      <td>98.851200</td>\n",
              "    </tr>\n",
              "  </tbody>\n",
              "</table>\n",
              "</div>\n",
              "    <div class=\"colab-df-buttons\">\n",
              "\n",
              "  <div class=\"colab-df-container\">\n",
              "    <button class=\"colab-df-convert\" onclick=\"convertToInteractive('df-bd1b0bce-99e1-4ca7-9f50-2eeb23c4b04b')\"\n",
              "            title=\"Convert this dataframe to an interactive table.\"\n",
              "            style=\"display:none;\">\n",
              "\n",
              "  <svg xmlns=\"http://www.w3.org/2000/svg\" height=\"24px\" viewBox=\"0 -960 960 960\">\n",
              "    <path d=\"M120-120v-720h720v720H120Zm60-500h600v-160H180v160Zm220 220h160v-160H400v160Zm0 220h160v-160H400v160ZM180-400h160v-160H180v160Zm440 0h160v-160H620v160ZM180-180h160v-160H180v160Zm440 0h160v-160H620v160Z\"/>\n",
              "  </svg>\n",
              "    </button>\n",
              "\n",
              "  <style>\n",
              "    .colab-df-container {\n",
              "      display:flex;\n",
              "      gap: 12px;\n",
              "    }\n",
              "\n",
              "    .colab-df-convert {\n",
              "      background-color: #E8F0FE;\n",
              "      border: none;\n",
              "      border-radius: 50%;\n",
              "      cursor: pointer;\n",
              "      display: none;\n",
              "      fill: #1967D2;\n",
              "      height: 32px;\n",
              "      padding: 0 0 0 0;\n",
              "      width: 32px;\n",
              "    }\n",
              "\n",
              "    .colab-df-convert:hover {\n",
              "      background-color: #E2EBFA;\n",
              "      box-shadow: 0px 1px 2px rgba(60, 64, 67, 0.3), 0px 1px 3px 1px rgba(60, 64, 67, 0.15);\n",
              "      fill: #174EA6;\n",
              "    }\n",
              "\n",
              "    .colab-df-buttons div {\n",
              "      margin-bottom: 4px;\n",
              "    }\n",
              "\n",
              "    [theme=dark] .colab-df-convert {\n",
              "      background-color: #3B4455;\n",
              "      fill: #D2E3FC;\n",
              "    }\n",
              "\n",
              "    [theme=dark] .colab-df-convert:hover {\n",
              "      background-color: #434B5C;\n",
              "      box-shadow: 0px 1px 3px 1px rgba(0, 0, 0, 0.15);\n",
              "      filter: drop-shadow(0px 1px 2px rgba(0, 0, 0, 0.3));\n",
              "      fill: #FFFFFF;\n",
              "    }\n",
              "  </style>\n",
              "\n",
              "    <script>\n",
              "      const buttonEl =\n",
              "        document.querySelector('#df-bd1b0bce-99e1-4ca7-9f50-2eeb23c4b04b button.colab-df-convert');\n",
              "      buttonEl.style.display =\n",
              "        google.colab.kernel.accessAllowed ? 'block' : 'none';\n",
              "\n",
              "      async function convertToInteractive(key) {\n",
              "        const element = document.querySelector('#df-bd1b0bce-99e1-4ca7-9f50-2eeb23c4b04b');\n",
              "        const dataTable =\n",
              "          await google.colab.kernel.invokeFunction('convertToInteractive',\n",
              "                                                    [key], {});\n",
              "        if (!dataTable) return;\n",
              "\n",
              "        const docLinkHtml = 'Like what you see? Visit the ' +\n",
              "          '<a target=\"_blank\" href=https://colab.research.google.com/notebooks/data_table.ipynb>data table notebook</a>'\n",
              "          + ' to learn more about interactive tables.';\n",
              "        element.innerHTML = '';\n",
              "        dataTable['output_type'] = 'display_data';\n",
              "        await google.colab.output.renderOutput(dataTable, element);\n",
              "        const docLink = document.createElement('div');\n",
              "        docLink.innerHTML = docLinkHtml;\n",
              "        element.appendChild(docLink);\n",
              "      }\n",
              "    </script>\n",
              "  </div>\n",
              "\n",
              "\n",
              "<div id=\"df-d6999fbc-b49b-45e3-9c1e-f6bd715ab6de\">\n",
              "  <button class=\"colab-df-quickchart\" onclick=\"quickchart('df-d6999fbc-b49b-45e3-9c1e-f6bd715ab6de')\"\n",
              "            title=\"Suggest charts\"\n",
              "            style=\"display:none;\">\n",
              "\n",
              "<svg xmlns=\"http://www.w3.org/2000/svg\" height=\"24px\"viewBox=\"0 0 24 24\"\n",
              "     width=\"24px\">\n",
              "    <g>\n",
              "        <path d=\"M19 3H5c-1.1 0-2 .9-2 2v14c0 1.1.9 2 2 2h14c1.1 0 2-.9 2-2V5c0-1.1-.9-2-2-2zM9 17H7v-7h2v7zm4 0h-2V7h2v10zm4 0h-2v-4h2v4z\"/>\n",
              "    </g>\n",
              "</svg>\n",
              "  </button>\n",
              "\n",
              "<style>\n",
              "  .colab-df-quickchart {\n",
              "      --bg-color: #E8F0FE;\n",
              "      --fill-color: #1967D2;\n",
              "      --hover-bg-color: #E2EBFA;\n",
              "      --hover-fill-color: #174EA6;\n",
              "      --disabled-fill-color: #AAA;\n",
              "      --disabled-bg-color: #DDD;\n",
              "  }\n",
              "\n",
              "  [theme=dark] .colab-df-quickchart {\n",
              "      --bg-color: #3B4455;\n",
              "      --fill-color: #D2E3FC;\n",
              "      --hover-bg-color: #434B5C;\n",
              "      --hover-fill-color: #FFFFFF;\n",
              "      --disabled-bg-color: #3B4455;\n",
              "      --disabled-fill-color: #666;\n",
              "  }\n",
              "\n",
              "  .colab-df-quickchart {\n",
              "    background-color: var(--bg-color);\n",
              "    border: none;\n",
              "    border-radius: 50%;\n",
              "    cursor: pointer;\n",
              "    display: none;\n",
              "    fill: var(--fill-color);\n",
              "    height: 32px;\n",
              "    padding: 0;\n",
              "    width: 32px;\n",
              "  }\n",
              "\n",
              "  .colab-df-quickchart:hover {\n",
              "    background-color: var(--hover-bg-color);\n",
              "    box-shadow: 0 1px 2px rgba(60, 64, 67, 0.3), 0 1px 3px 1px rgba(60, 64, 67, 0.15);\n",
              "    fill: var(--button-hover-fill-color);\n",
              "  }\n",
              "\n",
              "  .colab-df-quickchart-complete:disabled,\n",
              "  .colab-df-quickchart-complete:disabled:hover {\n",
              "    background-color: var(--disabled-bg-color);\n",
              "    fill: var(--disabled-fill-color);\n",
              "    box-shadow: none;\n",
              "  }\n",
              "\n",
              "  .colab-df-spinner {\n",
              "    border: 2px solid var(--fill-color);\n",
              "    border-color: transparent;\n",
              "    border-bottom-color: var(--fill-color);\n",
              "    animation:\n",
              "      spin 1s steps(1) infinite;\n",
              "  }\n",
              "\n",
              "  @keyframes spin {\n",
              "    0% {\n",
              "      border-color: transparent;\n",
              "      border-bottom-color: var(--fill-color);\n",
              "      border-left-color: var(--fill-color);\n",
              "    }\n",
              "    20% {\n",
              "      border-color: transparent;\n",
              "      border-left-color: var(--fill-color);\n",
              "      border-top-color: var(--fill-color);\n",
              "    }\n",
              "    30% {\n",
              "      border-color: transparent;\n",
              "      border-left-color: var(--fill-color);\n",
              "      border-top-color: var(--fill-color);\n",
              "      border-right-color: var(--fill-color);\n",
              "    }\n",
              "    40% {\n",
              "      border-color: transparent;\n",
              "      border-right-color: var(--fill-color);\n",
              "      border-top-color: var(--fill-color);\n",
              "    }\n",
              "    60% {\n",
              "      border-color: transparent;\n",
              "      border-right-color: var(--fill-color);\n",
              "    }\n",
              "    80% {\n",
              "      border-color: transparent;\n",
              "      border-right-color: var(--fill-color);\n",
              "      border-bottom-color: var(--fill-color);\n",
              "    }\n",
              "    90% {\n",
              "      border-color: transparent;\n",
              "      border-bottom-color: var(--fill-color);\n",
              "    }\n",
              "  }\n",
              "</style>\n",
              "\n",
              "  <script>\n",
              "    async function quickchart(key) {\n",
              "      const quickchartButtonEl =\n",
              "        document.querySelector('#' + key + ' button');\n",
              "      quickchartButtonEl.disabled = true;  // To prevent multiple clicks.\n",
              "      quickchartButtonEl.classList.add('colab-df-spinner');\n",
              "      try {\n",
              "        const charts = await google.colab.kernel.invokeFunction(\n",
              "            'suggestCharts', [key], {});\n",
              "      } catch (error) {\n",
              "        console.error('Error during call to suggestCharts:', error);\n",
              "      }\n",
              "      quickchartButtonEl.classList.remove('colab-df-spinner');\n",
              "      quickchartButtonEl.classList.add('colab-df-quickchart-complete');\n",
              "    }\n",
              "    (() => {\n",
              "      let quickchartButtonEl =\n",
              "        document.querySelector('#df-d6999fbc-b49b-45e3-9c1e-f6bd715ab6de button');\n",
              "      quickchartButtonEl.style.display =\n",
              "        google.colab.kernel.accessAllowed ? 'block' : 'none';\n",
              "    })();\n",
              "  </script>\n",
              "</div>\n",
              "\n",
              "    </div>\n",
              "  </div>\n"
            ]
          },
          "metadata": {},
          "execution_count": 8
        }
      ]
    },
    {
      "cell_type": "code",
      "source": [
        "df1 = pd.DataFrame(np.random.randint(0,100,size=(100, 4)), columns=list('ABCD'))\n",
        "print (df1)"
      ],
      "metadata": {
        "colab": {
          "base_uri": "https://localhost:8080/"
        },
        "id": "yE4erlMoxV_P",
        "outputId": "e207454e-d052-4b1c-d766-e929c47d3412"
      },
      "execution_count": null,
      "outputs": [
        {
          "output_type": "stream",
          "name": "stdout",
          "text": [
            "     A   B   C   D\n",
            "0   72  41   5  40\n",
            "1   31  41   5  30\n",
            "2   64  69   4  30\n",
            "3   73  44  96  98\n",
            "4   44  79  39  53\n",
            "..  ..  ..  ..  ..\n",
            "95  98  57   6  69\n",
            "96  99  90  18  76\n",
            "97  63  24  13  88\n",
            "98  62  35  97  38\n",
            "99  50  72  60  97\n",
            "\n",
            "[100 rows x 4 columns]\n"
          ]
        }
      ]
    },
    {
      "cell_type": "code",
      "execution_count": null,
      "metadata": {
        "colab": {
          "base_uri": "https://localhost:8080/"
        },
        "outputId": "02550a07-8eec-4afb-a52c-957f0a8ae58d",
        "id": "-Zca3-UGI8-K"
      },
      "outputs": [
        {
          "output_type": "stream",
          "name": "stdout",
          "text": [
            "0      82.7666\n",
            "1      88.9867\n",
            "2      89.4133\n",
            "3      94.6290\n",
            "4      97.2217\n",
            "        ...   \n",
            "395    61.1051\n",
            "396    59.5165\n",
            "397    55.8296\n",
            "398    56.0707\n",
            "399    49.0764\n",
            "Name: HU, Length: 400, dtype: float64\n",
            "         T_730nm      U_760nm      V_810nm      W_860nm\n",
            "0    11722.86621  14231.49316  31323.66797  29913.08594\n",
            "1    11355.43262  13576.45605  31734.97461  29063.53320\n",
            "2    11216.48730  13591.55762  30929.45703  29417.30859\n",
            "3    11101.21387  13731.24805  33529.03516  31883.95117\n",
            "4    11370.87109  13888.87305  30386.41211  28551.84180\n",
            "..           ...          ...          ...          ...\n",
            "395   9460.63086  11482.03418  31115.50000  29549.51758\n",
            "396  10044.20117  12064.39453  31823.47070  29963.27539\n",
            "397  10021.55762  12027.58398  32170.41602  30466.39844\n",
            "398  10051.40527  12238.06445  32025.60547  30952.38086\n",
            "399   9846.58984  11987.94238  31565.02148  30046.51758\n",
            "\n",
            "[400 rows x 4 columns]\n",
            "[[ 1.89062335  2.03770697 -0.91595825 -0.63422687]\n",
            " [ 1.38334185  1.31643573 -0.70287388 -1.11061657]\n",
            " [ 1.19151292  1.33306429 -1.12018591 -0.91223577]\n",
            " ...\n",
            " [-0.45821575 -0.38905067 -0.47728608 -0.32395493]\n",
            " [-0.41700786 -0.15728745 -0.55230763 -0.05143857]\n",
            " [-0.69977755 -0.43270064 -0.79092098 -0.55940461]]\n"
          ]
        }
      ],
      "source": [
        "#Data Processing\n",
        "df = pd.DataFrame(dataset)\n",
        "#df.to_csv(r'/content/Standard.csv',index = False, header = False)\n",
        "x_original = df.iloc[:,[2,3,4,5]]\n",
        "y_original = df.iloc[:,10]\n",
        "scaler = StandardScaler()\n",
        "scaler.fit(x_original)\n",
        "standardized_data = scaler.transform(x_original)\n",
        "x_std= standardized_data\n",
        "df1 = pd.DataFrame(x_std)\n",
        "df2 = df1.describe()\n",
        "x_original.to_csv(r'/content/Original.csv',index = False, header = False)\n",
        "df1.to_csv(r'/content/Standard.csv',index = False, header = False)\n",
        "df2.to_csv(r'/content/Describe.csv',index = False, header = False)\n",
        "print(y_original)\n",
        "print(x_original)\n",
        "print(x_std)"
      ]
    },
    {
      "cell_type": "code",
      "source": [
        "fig, ax = plt.subplots(figsize=(20, 8))\n",
        "line1, = ax.plot(wl, day2.T, label=\"Day 4\", linestyle='--')\n",
        "line2, = ax.plot(wl, day9.T, label=\"Day 9\", linewidth=1,color='red')\n",
        "line3, = ax.plot(wl, day21.T, label=\"Day 21\", linewidth=1,color='green')\n",
        "\n",
        "# Create another legend for the second line.\n",
        "ax.legend(handles=[line1,line2,line3,], loc='lower right')\n",
        "\n",
        "plt.show()"
      ],
      "metadata": {
        "colab": {
          "base_uri": "https://localhost:8080/",
          "height": 453
        },
        "id": "v3RFKObmOADy",
        "outputId": "d8e98562-f589-434a-b3cf-5bee369e515b"
      },
      "execution_count": null,
      "outputs": [
        {
          "output_type": "display_data",
          "data": {
            "text/plain": [
              "<Figure size 2000x800 with 1 Axes>"
            ],
            "image/png": "[encoded data removed]"
          },
          "metadata": {}
        }
      ]
    },
    {
      "cell_type": "code",
      "source": [
        "nv=x_original.values\n",
        "Xsnv=snv(nv)\n",
        "Xmsc=msc(nv)[0]\n",
        "print(Xmsc)"
      ],
      "metadata": {
        "id": "fSb6xQg7Vcto",
        "colab": {
          "base_uri": "https://localhost:8080/"
        },
        "outputId": "1c6960c7-74a1-4c46-b380-b1f74ca94c7d"
      },
      "execution_count": null,
      "outputs": [
        {
          "output_type": "stream",
          "name": "stdout",
          "text": [
            "[[-11807.82737121  -8867.70902169  11164.37139265   9511.16500025]\n",
            " [-11589.2700517   -9034.97660806  11848.27220307   8775.97445669]\n",
            " [-11721.42762618  -8957.46618006  11219.31979652   9459.57400972]\n",
            " ...\n",
            " [-11381.31745076  -9333.66154967  11227.17938137   9487.79961906]\n",
            " [-11483.49979773  -9254.51819785  10916.00734351   9822.01065207]\n",
            " [-11472.03082285  -9241.81539284  11147.68286483   9566.16335085]]\n"
          ]
        }
      ]
    },
    {
      "cell_type": "code",
      "source": [
        "print (x_std)\n",
        "print (y_original)"
      ],
      "metadata": {
        "colab": {
          "base_uri": "https://localhost:8080/"
        },
        "id": "MNh2NL84aNr8",
        "outputId": "ec09813b-47a3-4917-bec6-06d7a891387b"
      },
      "execution_count": null,
      "outputs": [
        {
          "output_type": "stream",
          "name": "stdout",
          "text": [
            "[[ 1.89062335  2.03770697 -0.91595825 -0.63422687]\n",
            " [ 1.38334185  1.31643573 -0.70287388 -1.11061657]\n",
            " [ 1.19151292  1.33306429 -1.12018591 -0.91223577]\n",
            " ...\n",
            " [-0.45821575 -0.38905067 -0.47728608 -0.32395493]\n",
            " [-0.41700786 -0.15728745 -0.55230763 -0.05143857]\n",
            " [-0.69977755 -0.43270064 -0.79092098 -0.55940461]]\n",
            "0      82.7666\n",
            "1      88.9867\n",
            "2      89.4133\n",
            "3      94.6290\n",
            "4      97.2217\n",
            "        ...   \n",
            "395    61.1051\n",
            "396    59.5165\n",
            "397    55.8296\n",
            "398    56.0707\n",
            "399    49.0764\n",
            "Name: HU, Length: 400, dtype: float64\n"
          ]
        }
      ]
    },
    {
      "cell_type": "code",
      "source": [
        "print(x_std)\n",
        "print(y_original)"
      ],
      "metadata": {
        "colab": {
          "base_uri": "https://localhost:8080/"
        },
        "id": "KqWRmigagnMZ",
        "outputId": "3c61076a-33a5-408f-e187-0aacc5971c92"
      },
      "execution_count": null,
      "outputs": [
        {
          "output_type": "stream",
          "name": "stdout",
          "text": [
            "[[ 1.89062335  2.03770697 -0.91595825 -0.63422687]\n",
            " [ 1.38334185  1.31643573 -0.70287388 -1.11061657]\n",
            " [ 1.19151292  1.33306429 -1.12018591 -0.91223577]\n",
            " ...\n",
            " [-0.45821575 -0.38905067 -0.47728608 -0.32395493]\n",
            " [-0.41700786 -0.15728745 -0.55230763 -0.05143857]\n",
            " [-0.69977755 -0.43270064 -0.79092098 -0.55940461]]\n",
            "0      82.7666\n",
            "1      88.9867\n",
            "2      89.4133\n",
            "3      94.6290\n",
            "4      97.2217\n",
            "        ...   \n",
            "395    61.1051\n",
            "396    59.5165\n",
            "397    55.8296\n",
            "398    56.0707\n",
            "399    49.0764\n",
            "Name: HU, Length: 400, dtype: float64\n"
          ]
        }
      ]
    },
    {
      "cell_type": "code",
      "execution_count": null,
      "metadata": {
        "id": "sj3h_JO9Bymb"
      },
      "outputs": [],
      "source": [
        "from sklearn.model_selection import train_test_split\n",
        "x_train, x_test, y_train, y_test = train_test_split(x_std,y_original,test_size = 0.2)"
      ]
    },
    {
      "cell_type": "markdown",
      "metadata": {
        "id": "hVLiG1wHC7sQ"
      },
      "source": [
        "Training model"
      ]
    },
    {
      "cell_type": "code",
      "execution_count": null,
      "metadata": {
        "colab": {
          "base_uri": "https://localhost:8080/"
        },
        "id": "jaxaPMaQC_ng",
        "outputId": "9ed44af0-3fad-44b5-d88b-c5247a8262c4"
      },
      "outputs": [
        {
          "output_type": "stream",
          "name": "stdout",
          "text": [
            "9.202748349552357\n",
            "0.34542958626496134\n"
          ]
        }
      ],
      "source": [
        "from sklearn.linear_model import LinearRegression\n",
        "ml = LinearRegression()\n",
        "ml.fit(x_train,y_train)\n",
        "y_pred = ml.predict(x_test)\n",
        "from sklearn.metrics import r2_score\n",
        "r2=r2_score(y_test, y_pred)\n",
        "mse = mean_squared_error(y_test,y_pred)\n",
        "Rmse=math.sqrt(mse)\n",
        "print(Rmse)\n",
        "print(r2)"
      ]
    },
    {
      "cell_type": "code",
      "execution_count": null,
      "metadata": {
        "id": "ace6LmBaDYhn"
      },
      "outputs": [],
      "source": [
        "y_pred = ml.predict(x_test)\n"
      ]
    },
    {
      "cell_type": "code",
      "execution_count": null,
      "metadata": {
        "id": "-YHgAAs44Aw8",
        "colab": {
          "base_uri": "https://localhost:8080/"
        },
        "outputId": "696f427e-9457-48fd-8718-54cd7a0554ae"
      },
      "outputs": [
        {
          "output_type": "execute_result",
          "data": {
            "text/plain": [
              "0.34542958626496134"
            ]
          },
          "metadata": {},
          "execution_count": 17
        }
      ],
      "source": [
        "from sklearn.metrics import r2_score\n",
        "r2_score(y_test, y_pred)"
      ]
    },
    {
      "cell_type": "code",
      "source": [
        "mse = mean_squared_error(y_test,y_pred)\n",
        "Rmse=math.sqrt(mse)\n",
        "print(Rmse)"
      ],
      "metadata": {
        "colab": {
          "base_uri": "https://localhost:8080/"
        },
        "id": "Ck9VvdM_0p7r",
        "outputId": "30ffa7b8-eaec-4d6e-84c2-7cc952a3aedd"
      },
      "execution_count": null,
      "outputs": [
        {
          "output_type": "stream",
          "name": "stdout",
          "text": [
            "9.202748349552357\n"
          ]
        }
      ]
    },
    {
      "cell_type": "code",
      "execution_count": null,
      "metadata": {
        "id": "twu-VfEfWxph"
      },
      "outputs": [],
      "source": [
        "ML_Model = 'model1.sav'\n",
        "pickle.dump(ml, open(ML_Model, 'wb'))"
      ]
    },
    {
      "cell_type": "code",
      "execution_count": null,
      "metadata": {
        "id": "EtOVZ_NGjpSK"
      },
      "outputs": [],
      "source": [
        "SC_Model = 'scaler1.sav'\n",
        "pickle.dump(scaler, open(SC_Model, 'wb'))"
      ]
    },
    {
      "cell_type": "code",
      "execution_count": null,
      "metadata": {
        "id": "sqPlIiRiXv-E"
      },
      "outputs": [],
      "source": [
        "loaded_model_ML = pickle.load(open(ML_Model, 'rb'))\n",
        "loaded_model_SC = pickle.load(open(SC_Model, 'rb'))\n",
        "\n"
      ]
    }
  ],
  "metadata": {
    "colab": {
      "provenance": []
    },
    "kernelspec": {
      "display_name": "Python 3",
      "name": "python3"
    },
    "language_info": {
      "name": "python"
    }
  },
  "nbformat": 4,
  "nbformat_minor": 0
}