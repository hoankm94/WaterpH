{
  "cells": [
    {
      "cell_type": "code",
      "execution_count": null,
      "metadata": {
        "id": "2zhJRpvMB-ch"
      },
      "outputs": [],
      "source": [
        "import numpy as np\n",
        "import pandas as pd\n",
        "import matplotlib.pyplot as plt\n",
        "\n",
        "# Sklearn modules & classes\n",
        "from sklearn.linear_model import Perceptron, LogisticRegression\n",
        "from sklearn.svm import SVC\n",
        "from sklearn.model_selection import train_test_split\n",
        "from sklearn.preprocessing import StandardScaler\n",
        "from sklearn import datasets\n",
        "from sklearn import metrics\n",
        "from sklearn import svm\n",
        "import math"
      ]
    },
    {
      "cell_type": "code",
      "execution_count": null,
      "metadata": {
        "id": "fbAiVRWFkyFJ"
      },
      "outputs": [],
      "source": [
        "import matplotlib.pyplot as plt\n",
        "import numpy as np\n",
        "\n",
        "from sklearn import datasets, ensemble\n",
        "from sklearn.inspection import permutation_importance\n",
        "from sklearn.metrics import mean_squared_error\n",
        "from sklearn.model_selection import train_test_split"
      ]
    },
    {
      "cell_type": "code",
      "execution_count": null,
      "metadata": {
        "id": "0Zg7XP-i-_-l"
      },
      "outputs": [],
      "source": [
        "import pandas as pd\n",
        "import numpy as np\n",
        "import matplotlib.pyplot as plt\n",
        "from matplotlib.pylab import rcParams\n",
        "from sklearn import preprocessing\n",
        "import sklearn.feature_selection as fs\n",
        "import pickle\n",
        "from sklearn.preprocessing import StandardScaler\n",
        "from scipy.signal import savgol_filter\n",
        "from sklearn.cross_decomposition import PLSRegression\n",
        "from sklearn.model_selection import cross_val_predict\n",
        "from sklearn.metrics import mean_squared_error, r2_score\n",
        "from sys import stdout\n",
        "import math\n",
        "import plotly.express as px\n",
        "import matplotlib as mpl\n",
        "import matplotlib.patches as mpatches"
      ]
    },
    {
      "cell_type": "code",
      "execution_count": null,
      "metadata": {
        "id": "akEd5oQWJdYy"
      },
      "outputs": [],
      "source": [
        "dataset = pd.read_csv ('/content/Raw_data_bot.csv')\n"
      ]
    },
    {
      "cell_type": "code",
      "execution_count": null,
      "metadata": {
        "colab": {
          "base_uri": "https://localhost:8080/"
        },
        "id": "T82FAFmOJZ6j",
        "outputId": "c0b6331c-4541-4662-f44d-3e83fa3ccde5"
      },
      "outputs": [
        {
          "name": "stdout",
          "output_type": "stream",
          "text": [
            "0       2\n",
            "1       2\n",
            "2       2\n",
            "3       2\n",
            "4       2\n",
            "       ..\n",
            "395    21\n",
            "396    21\n",
            "397    21\n",
            "398    21\n",
            "399    21\n",
            "Name: DATE, Length: 400, dtype: int64\n"
          ]
        }
      ],
      "source": [
        "#Data Processing\n",
        "df = pd.DataFrame(dataset)\n",
        "#df.to_csv(r'/content/Standard.csv',index = False, header = False)\n",
        "x_original = df.iloc[:,[2,4,3,5]]\n",
        "y_original = df.iloc[:,6]\n",
        "scaler = StandardScaler()\n",
        "scaler.fit(x_original)\n",
        "standardized_data = scaler.transform(x_original)\n",
        "x_std= standardized_data\n",
        "df1 = pd.DataFrame(x_std)\n",
        "df2 = df1.describe()\n",
        "x_original.to_csv(r'/content/Original.csv',index = False, header = False)\n",
        "df1.to_csv(r'/content/Standard.csv',index = False, header = False)\n",
        "df2.to_csv(r'/content/Describe.csv',index = False, header = False)\n",
        "print(y_original)"
      ]
    },
    {
      "cell_type": "code",
      "execution_count": null,
      "metadata": {
        "id": "lDXjDZmwCENt"
      },
      "outputs": [],
      "source": [
        "\n",
        "# Create training and test split\n",
        "X_train, X_test, y_train, y_test = train_test_split(x_std, y_original, test_size=0.2)\n"
      ]
    },
    {
      "cell_type": "code",
      "execution_count": null,
      "metadata": {
        "colab": {
          "base_uri": "https://localhost:8080/"
        },
        "id": "gyUR-EkGZhof",
        "outputId": "9fb997d6-f3fa-4748-e8bf-0500317dc54e"
      },
      "outputs": [
        {
          "name": "stdout",
          "output_type": "stream",
          "text": [
            "0.6373599800759863\n",
            "3.8676665005352326\n"
          ]
        }
      ],
      "source": [
        "regr = svm.SVR(C=10.0,epsilon=1)\n",
        "regr.fit(X_train, y_train)\n",
        "y_predict = regr.predict(X_test)\n",
        "from sklearn.metrics import r2_score\n",
        "b=r2_score(y_test, y_predict)\n",
        "mse = mean_squared_error(y_test,y_predict)\n",
        "Rmse=math.sqrt(mse)\n",
        "print(b)\n",
        "print(Rmse)"
      ]
    },
    {
      "cell_type": "code",
      "execution_count": null,
      "metadata": {
        "colab": {
          "base_uri": "https://localhost:8080/"
        },
        "id": "_AR5VnzIA2_g",
        "outputId": "635cccab-5542-46df-efa4-2743fe426a1f"
      },
      "outputs": [
        {
          "name": "stdout",
          "output_type": "stream",
          "text": [
            "[ 2.11768801 18.94472595 16.68339875 15.11200892  7.52964148  8.17756221\n",
            " 15.42006864  8.34962879  3.66804434 18.50786512 14.20823752  2.11676338\n",
            " 15.233343    9.53661505 16.07305443  8.95664843 11.1732832  11.07930628\n",
            " 11.27259473 17.53996568  7.89261597 10.41372943  2.47235315 11.66983537\n",
            " 12.84089166  2.72823836  9.85113094  2.51436461 15.42455926  5.04002087\n",
            " 14.74320843 17.66710413 15.91777784 11.88064824 15.90608658 10.99416065\n",
            "  3.69875354  9.93608619  9.52070165  1.97662845  9.55161014 18.27865995\n",
            " 11.22500061 19.39791235 10.15056909  9.28546299 19.15187396 15.42274346\n",
            "  4.35747968 11.35008607 11.15975444 12.59411801  8.90625565 17.44757407\n",
            " 16.77435793 11.61100453 14.39024933 10.5007906  13.29624934 12.67247252\n",
            " 11.92308678 12.64557157 12.39338136  8.06838203 18.7785026  11.16221284\n",
            " 11.38875202 17.10398174  8.0330461   3.11100702  9.23542317 15.12254511\n",
            " 17.36654088 16.21520824 18.15175275 13.98789937  6.26057574  9.10565118\n",
            "  8.04694257 14.81810619]\n"
          ]
        }
      ],
      "source": [
        "print(y_predict)"
      ]
    },
    {
      "cell_type": "code",
      "execution_count": null,
      "metadata": {
        "colab": {
          "base_uri": "https://localhost:8080/"
        },
        "id": "kKAjXO1GA7hf",
        "outputId": "003beb85-729a-446b-baf9-b3f35a2bc073"
      },
      "outputs": [
        {
          "name": "stdout",
          "output_type": "stream",
          "text": [
            "12      2\n",
            "299    16\n",
            "303    17\n",
            "276    15\n",
            "45      4\n",
            "       ..\n",
            "357    19\n",
            "58      4\n",
            "237    13\n",
            "36      3\n",
            "226    13\n",
            "Name: DATE, Length: 80, dtype: int64\n"
          ]
        }
      ],
      "source": [
        "print(y_test)"
      ]
    },
    {
      "cell_type": "code",
      "execution_count": null,
      "metadata": {
        "id": "lpKn-FB3x6wb"
      },
      "outputs": [],
      "source": [
        "ML_Model = 'model1.sav'\n",
        "pickle.dump(regr, open(ML_Model, 'wb'))"
      ]
    },
    {
      "cell_type": "code",
      "execution_count": null,
      "metadata": {
        "id": "s6ozpy19x7h3"
      },
      "outputs": [],
      "source": [
        "SC_Model = 'scaler1.sav'\n",
        "pickle.dump(scaler, open(SC_Model, 'wb'))"
      ]
    },
    {
      "cell_type": "code",
      "execution_count": null,
      "metadata": {
        "id": "xk6xTyN5x-gf"
      },
      "outputs": [],
      "source": [
        "loaded_model_ML = pickle.load(open(ML_Model, 'rb'))\n",
        "loaded_model_SC = pickle.load(open(SC_Model, 'rb'))"
      ]
    },
    {
      "cell_type": "code",
      "execution_count": null,
      "metadata": {
        "colab": {
          "base_uri": "https://localhost:8080/"
        },
        "id": "dUr_Spkshgmm",
        "outputId": "6a95a28d-dfa2-4ffe-bee2-42e4a0900d4b"
      },
      "outputs": [
        {
          "name": "stdout",
          "output_type": "stream",
          "text": [
            "0.3689796345157289\n",
            "9.389255299223626\n"
          ]
        }
      ],
      "source": [
        "from sklearn import tree\n",
        "clf = tree.DecisionTreeRegressor(random_state=42,max_depth=4)\n",
        "clf = clf.fit(X_train, y_train)\n",
        "prd=clf.predict(X_test)\n",
        "from sklearn.metrics import r2_score\n",
        "c=r2_score(y_test, prd)\n",
        "mse = mean_squared_error(y_test,prd)\n",
        "Rmse=math.sqrt(mse)\n",
        "print(c)\n",
        "print(Rmse)"
      ]
    }
  ],
  "metadata": {
    "colab": {
      "provenance": []
    },
    "kernelspec": {
      "display_name": "Python 3",
      "name": "python3"
    },
    "language_info": {
      "name": "python"
    }
  },
  "nbformat": 4,
  "nbformat_minor": 0
}